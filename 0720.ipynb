{
 "cells": [
  {
   "cell_type": "markdown",
   "metadata": {},
   "source": [
    "## 제어문\n",
    "\n",
    "1. 일정 조건에 따라 실행하기/멈추기 --조건문\n",
    "2. 특정 부분에 대해 계속해서 반복하기 --반복문\n",
    "\n",
    "### 조건문\n",
    "- 주어진 표현식(조건식)을 평가해 boolean값으로 출력됨\n",
    "\n",
    "1. if문\n",
    "- 기본구조 : else는 위의 모든 조건을 충족하지 않을때 실행, 어떠한 조건을 만족하면 if문은 종료됨 (if-elif-else)\n",
    "- 복수 조건문 : 순차적으로 실행\n",
    "- 중첩 조건문 : 첫번째 조건을 만족한 후 두번쨰 조건을 만족하는지도 평가\n",
    "- **else는 평가할 값이 if에 조건에 대한 false 값만이 올 수 있을 때 사용한다.**\n",
    "\n",
    "- 조건 표현식 : list comprehension과 마찬가지로 if문도 한줄로 표현식을 작성할 수 있다. >> str = \"짝수\" if num % 2 == 0 else \"홀수\"\n",
    "\n",
    "### 반복문 --얼마만큼 언제까지 반복할 것인지? 에 따라 두가지 방법이 있음\n",
    "\n",
    "1. for문 --특정 작업을 반복적으로 수행--\n",
    "- for문은 자체적인 종료조건이 있음(임의적 시퀀스의 순서만큼)\n",
    "- 임의적 시퀀스에 올 수 있는 것 : 이터러블 객체(시퀀스 + 딕셔너리, 세트)\n",
    "- 인덱스로 리스트를 순회할때 활용법 : for문의 변수를 인덱스로 뽑아서 표현식에서 순서별로 계산 / 리스트값이 정해져있지 않거나 새로운 리스트값이 추가되어야할때 수월한 계산이 가능 \n",
    "\n",
    "2. while문 --주어진 조건이 참인 동안 반복--\n",
    "- while문은 직접 종료조건을 지정 --조건식이 거짓이 될 때까지 반복 **코드 해석시에 반복문과 조건문 분리해서 생각하기**\n",
    "\n",
    "3. 반복 제어 --반복문을 끝까지 반복하는게 아니라, 중간에 멈추거나, 넘어가거나 하게 할 수 있음\n",
    "- break : 반복 즉시 중지(반복문 탈출)\n",
    "- continue : 다음 바퀴로 건너뜀\n",
    "- pass : 지역범위 내에서 아무것도 수행하지 않고 넘어감(표현식에 영향없음)\n",
    "- **반복문에서의 else** : else문은 반복문을 실행한 이후에 실행됨, (break를 통해 중간에 종료되지 않은 경우에 한해), 반복문이 중간에 종료된 적이 있는지를 **검사**할때 사용\n",
    "\n",
    "리스트로 형변환하는 방법\n",
    "1. for 반복문\n",
    "2. map + list\n",
    "3. **list comprehension**\n",
    "    - 홀수만 들어간 리스트 만들기\n",
    "        - new_list = [i(리스트안에 들어갈 요소) for i in range(10) if i % 2 == 1]\n",
    "        - print(new_list)\n",
    "    - if else 이용\n",
    "        - new_list = [i if i % 2 == 1 else str(i) for i in range(10)]\n",
    "    - elif는 안됨, 중첩 if문은 가능\n",
    "\n",
    "**enumerate**\n",
    "- enumerate함수 다음에 오는 iterable 객체가 (인덱스, 객체값) 의 튜플형태로 저장됨\n",
    "\n",
    "\n",
    "\n",
    "\n",
    "\n",
    "\n"
   ]
  },
  {
   "cell_type": "code",
   "execution_count": 7,
   "metadata": {},
   "outputs": [
    {
     "name": "stdout",
     "output_type": "stream",
     "text": [
      "[1, 2, 3]\n",
      "[1, 2, 3]\n",
      "[1, 2, 3]\n",
      "{1: 1, 2: 4, 3: 9, 4: 16, 5: 25, 6: 36, 7: 49, 8: 64, 9: 81}\n"
     ]
    }
   ],
   "source": [
    "#### 리스트로 형변환하는 방법 ####\n",
    "\n",
    "numbers = ['1', '2', '3']\n",
    "\n",
    "# 1. for loop\n",
    "new_numbers = []\n",
    "for number in numbers:\n",
    "    new_numbers.append(int(number))\n",
    "print(new_numbers)\n",
    "\n",
    "\n",
    "# 2. map\n",
    "new_numbers_2 = list(map(int, numbers))\n",
    "print(new_numbers_2)\n",
    "\n",
    "# 3. list comprehension\n",
    "new_numbers_3 = [int(number) for number in numbers]\n",
    "print(new_numbers_3)\n",
    "\n",
    "\n",
    "#### 딕셔너리 컴프렌션 ####\n",
    "\n",
    "my_dict = {i: i**2 for i in range(1, 10)}\n",
    "\n",
    "print(my_dict)"
   ]
  },
  {
   "cell_type": "code",
   "execution_count": 2,
   "metadata": {},
   "outputs": [
    {
     "name": "stdout",
     "output_type": "stream",
     "text": [
      "[(0, 'a'), (1, 'b'), (2, 'c')]\n"
     ]
    }
   ],
   "source": [
    "# enumerate 함수\n",
    "\n",
    "result = ['a', 'b', 'c']\n",
    "\n",
    "print(list(enumerate(result)))\n",
    "\n",
    "# for문의 변수에 각각 인덱스와 요소값이 입력됨\n",
    "\n",
    "for index, fruit in enumerate(fruits)\n"
   ]
  },
  {
   "cell_type": "code",
   "execution_count": 6,
   "metadata": {},
   "outputs": [
    {
     "name": "stdout",
     "output_type": "stream",
     "text": [
      "b!\n"
     ]
    }
   ],
   "source": [
    "## 반복문에서의 else ##\n",
    "\n",
    "# string = \"apple\"\n",
    "string = \"banana\"\n",
    "\n",
    "for c in string:\n",
    "    if \"b\" == c:\n",
    "        print(\"b!\")\n",
    "        break\n",
    "\n",
    "else:\n",
    "    print(\"이 단어에는 b가 없습니다.\")\n",
    "\n",
    "수정 수정\n",
    "\n"
   ]
  },
  {
   "cell_type": "code",
   "execution_count": 4,
   "metadata": {},
   "outputs": [
    {
     "name": "stdout",
     "output_type": "stream",
     "text": [
      "yebun : 100 100\n",
      "jihyun : 80 80\n",
      "jaedong : 70 70\n",
      "============================================\n",
      "yebun : 100 100\n",
      "jihyun : 80 80\n",
      "jaedong : 70 70\n",
      "============================================\n",
      "100\n",
      "80\n",
      "70\n",
      "============================================\n",
      "yebun: 100\n",
      "jihyun: 80\n",
      "jaedong: 70\n"
     ]
    }
   ],
   "source": [
    "## 딕셔너리의 값을 출력하는 다양한 방법 ##\n",
    "\n",
    "\n",
    "scores = {\"yebun\": 100, \"jihyun\": 80, \"jaedong\": 70}\n",
    "\n",
    "# 1. 기본적으로 key만 가져감\n",
    "for name in scores:\n",
    "    print(f\"{name} : {scores[name]} {scores.get(name)}\")\n",
    "\n",
    "print(\"============================================\")\n",
    "\n",
    "# 2. 키값만 가져오기\n",
    "for name in scores.keys():\n",
    "    print(f\"{name} : {scores[name]} {scores.get(name)}\")\n",
    "\n",
    "print(\"============================================\")\n",
    "\n",
    "# 3. value 값만 가져오기\n",
    "for score in scores.values():\n",
    "    print(score)\n",
    "\n",
    "print(\"============================================\")\n",
    "\n",
    "# 4. key와 value 둘다 가져오기 \n",
    "for key, value in scores.items():\n",
    "    print(f\"{key}: {value}\")"
   ]
  }
 ],
 "metadata": {
  "kernelspec": {
   "display_name": "Python 3",
   "language": "python",
   "name": "python3"
  },
  "language_info": {
   "codemirror_mode": {
    "name": "ipython",
    "version": 3
   },
   "file_extension": ".py",
   "mimetype": "text/x-python",
   "name": "python",
   "nbconvert_exporter": "python",
   "pygments_lexer": "ipython3",
   "version": "3.9.13"
  },
  "orig_nbformat": 4
 },
 "nbformat": 4,
 "nbformat_minor": 2
}
