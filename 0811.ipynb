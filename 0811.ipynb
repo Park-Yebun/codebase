{
 "cells": [
  {
   "cell_type": "markdown",
   "metadata": {},
   "source": [
    "- 버리는 입력값은 언더바 처리해도됨\n",
    "- ord() >> 문자를 숫자로, chr() >> 숫자를 문자로\n",
    "- 반복문에서 특정 요소에서만 특정 문자를 제거하는법?\n",
    "- 리스트타입.pop() 메소드는 변수에 할당하지 않고 바로 출력하면 내가 지정하는 요소가 어느 요소인지 컴퓨터가 알 수 없음\n",
    "- 문자열과 리스트 헷갈리지 않기, 문자열과 리스트 둘다 시퀀스 타입이므로 슬라이싱, 인덱싱 모두 가능\n",
    "- == 연산자는 값을 참조 is 연산자는 주소와 값 모두 참조\n",
    "- while문의 종료조건에서 and연산자가 나올경우 두 조건 중 하나만 만족해도 종료됨\n",
    "\n"
   ]
  },
  {
   "cell_type": "code",
   "execution_count": 1,
   "metadata": {},
   "outputs": [
    {
     "name": "stdout",
     "output_type": "stream",
     "text": [
      "a\n",
      "c\n",
      "ra\n"
     ]
    }
   ],
   "source": [
    "str1 = \"abracadabra\"\n",
    "list1 = ['a', 'b', 'c']\n",
    "\n",
    "print(str1[3])\n",
    "print(list1[2])\n",
    "print(str1[2:4])"
   ]
  },
  {
   "cell_type": "code",
   "execution_count": null,
   "metadata": {},
   "outputs": [],
   "source": [
    "# 언패킹을 활용하여 리스트 안에 요소를 괄호 없이 출력할 수 있음\n",
    "num = input()\n",
    "cnt = [0]*10\n",
    "\n",
    "for i in num:\n",
    "    for j in range(10):\n",
    "        if int(i) == j:\n",
    "            cnt[j] += 1\n",
    "\n",
    "print(*range(10))\n",
    "print(*cnt)\n"
   ]
  }
 ],
 "metadata": {
  "kernelspec": {
   "display_name": "Python 3 (ipykernel)",
   "language": "python",
   "name": "python3"
  },
  "orig_nbformat": 4
 },
 "nbformat": 4,
 "nbformat_minor": 2
}
