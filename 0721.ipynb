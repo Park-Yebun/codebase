{
 "cells": [
  {
   "cell_type": "markdown",
   "metadata": {},
   "source": [
    "- 서버는 어떨게 요청을 해석할까 = 서버에는 어떤 프로그램 코딩이 되어있는가 ==> API라는 프로그램!!\n",
    "- 서버 주인이 날씨 데이터를 가지고 있다고 가정했을 때, 날씨 데이터를 요청하기 위해 필요한 주소를 미리 만들어놓음(API)\n",
    "- 내가 만약 날씨 데이터를 수집하고 싶다면 1.날씨 데이터를 가지고 있는 서버와 2.그 서버의 API를 찾아야한다.\n",
    "\n",
    "\n",
    "-json형식과 딕셔너리의 차이점 --데이터가 n개 일경우 데이터별로 []로 구분됨"
   ]
  }
 ],
 "metadata": {
  "language_info": {
   "name": "python"
  },
  "orig_nbformat": 4
 },
 "nbformat": 4,
 "nbformat_minor": 2
}
