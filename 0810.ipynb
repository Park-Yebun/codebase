{
 "cells": [
  {
   "cell_type": "code",
   "execution_count": null,
   "metadata": {},
   "outputs": [],
   "source": [
    "def dfs(nV, V, adj_m):  # 반복문을 돌면서 현재정점을 프린트하는 함수(경로의 자취를 출력) nV은 현재정점, V는 전체 정점의 갯수, adj_m은 인접행렬\n",
    "    stack = [] # 스택 생성\n",
    "    visited = [0]*(V+1) # visited 생성(정점의 값을 인덱스의 위치로 두기 위해 V+1개로 처리)\n",
    "    visited[nV] = 1 # 시작점 방문 표시\n",
    "    print(nV) # do[n]\n",
    "    while True:\n",
    "        for w in range(1, V): # 현재 정점 n에 인접하고 미방문한 w 찾기\n",
    "            if adj_m[nV][w] == 1 and visited[w] == 0:\n",
    "                stack.append(nV) # push(v) V = w\n",
    "                nV = w\n",
    "                print(nV) # do(w)\n",
    "                visited[nV] = 1 # w 방문표시\n",
    "                break       # 인접인 w를 찾은 경우\n",
    "        else:\n",
    "            if stack:      # 스택에 지나온 정점이 남아있으면(스택이 안비어있다면)\n",
    "                nV = stack.pop()     # pop한 값으로 뒷걸음질 쳐서 다음 경로 검색\n",
    "            else:\n",
    "                break               # 탐색이 끝났다"
   ]
  },
  {
   "cell_type": "markdown",
   "metadata": {},
   "source": [
    "- 함수 작성전에 어떤 함수인지 미리 정의해보기\n",
    "- while 문은 종료조건을 옆에 작성할수 있지만, break를 이용해 종료조건을 설정할 수도 있다.\n",
    "- 리스트, 문자열, 정수형등 [], \"\", 0 은 비어있으므로 False처리, 요소가 하나라도 들어있으면 True로 처리되는 것을 활용해 반복문의 조건으로 사용가능\n",
    "- for-if-break 구조의 문장에서 for의 범위만큼 순회하다가 if조건을 충족하면 break 아래는 실행안함(if 아래 break 위 표현식들은 수행함)"
   ]
  },
  {
   "cell_type": "code",
   "execution_count": null,
   "metadata": {},
   "outputs": [],
   "source": [
    "for i in range(5):\n",
    "    if i == 2:\n",
    "        break\n",
    "    print(i, end=' ')\n",
    "else:\n",
    "    print(\"for문이 끝까지 실행됬습니다!\")"
   ]
  },
  {
   "cell_type": "markdown",
   "metadata": {},
   "source": [
    "- for-else 구조에서 else문은 for문이 break등으로 중간에 빠져나오지 않고 끝까지 실행되었을 경우 실행됨  "
   ]
  }
 ],
 "metadata": {
  "language_info": {
   "name": "python"
  },
  "orig_nbformat": 4
 },
 "nbformat": 4,
 "nbformat_minor": 2
}
