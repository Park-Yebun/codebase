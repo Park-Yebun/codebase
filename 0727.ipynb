{
 "cells": [
  {
   "cell_type": "markdown",
   "metadata": {},
   "source": [
    "#### 상속\n",
    "- 상속의 이점 : 코드를 재사용함으로써 코드의 중복을 줄일 수 있음, 계층 구조를 형성할 수 있음, 부모 클래스의 수정을 통한 유지보수의 용이성\n",
    "\n",
    "- 상속의 문제점 : 상위클래스의 이름이 바뀌면 하위 클래스 이름도 다 바꿔줘야함 >>유연하지 못함\n",
    "    - super() 함수 : 메서드의 흐름에 문제가 없이 부모 클래스를 자동 호출 </br>\n",
    "        def __init__(self, name, age): </br>\n",
    "        super().__init__(name) \n",
    "    - mro() 함수 : super의 참조 순서를 반환\n",
    "    \n",
    "##### 다중상속\n",
    "- 자식 클래스가 2개 이상의 부모 클래스를 상속받았을때, 부모의 공통된 메서드나 변수를 호출했을경우 상속순서에 따라 가장 먼저 상속받은 부모 클래스를 참조함(에러안남)\n",
    "\n",
    "**메서드 오버라이딩** : 부모 클래스로부터 상속받은 메소드를 자식 클래스에서 재정의하여 사용하는 것\n",
    "\n",
    "```\n",
    "class Person:\n",
    "    def greeting(self):\n",
    "        print('안녕하세요.')\n",
    " \n",
    "class Student(Person):\n",
    "    def greeting(self):\n",
    "        super().greeting()    # 기반 클래스의 메서드 호출하여 중복을 줄임\n",
    "        print('저는 파이썬 코딩 도장 학생입니다.')\n",
    "```"
   ]
  },
  {
   "cell_type": "code",
   "execution_count": 7,
   "metadata": {},
   "outputs": [
    {
     "name": "stdout",
     "output_type": "stream",
     "text": [
      "안녕, 박교수입니다.\n",
      "안녕, 김학생입니다.\n"
     ]
    }
   ],
   "source": [
    "class Person:\n",
    "    def __init__(self, name, age):\n",
    "        self.name = name\n",
    "        self.age = age\n",
    "    \n",
    "\n",
    "    def talk(self):\n",
    "        print(f'안녕, {self.name}입니다.')\n",
    "\n",
    "class Professor(Person):\n",
    "    def __init__(self, name, age, department):\n",
    "        # Person.__init__(self, name, age)                            # 부모 클래스에서 __init__ 함수를 참조해오기\n",
    "        super().__init__(name,age)                                    # super함수 사용\n",
    "        self.department = department\n",
    "class Student(Person):\n",
    "    def __init__(self, name, age, gpa):\n",
    "        super().__init__(name,age)   \n",
    "        self.gpa = gpa\n",
    "\n",
    "\n",
    "p1 = Professor('박교수', 53, '컴퓨터공학')\n",
    "s1 = Student('김학생', 21, 3.5)\n",
    "\n",
    "p1.talk()\n",
    "s1.talk()\n"
   ]
  },
  {
   "cell_type": "code",
   "execution_count": 12,
   "metadata": {},
   "outputs": [
    {
     "name": "stdout",
     "output_type": "stream",
     "text": [
      "첫째가 응애\n",
      "첫째가 수영\n",
      "아빠가 걷기\n",
      "XY\n",
      "XX\n"
     ]
    }
   ],
   "source": [
    "## 다중 상속\n",
    "class Person:\n",
    "    def __init__(self, name):\n",
    "        self.name = name\n",
    "\n",
    "    def greeting(self):\n",
    "        return f'안녕, {self.name}.'\n",
    "\n",
    "\n",
    "class Mom(Person):\n",
    "    gene = 'XX'\n",
    "\n",
    "    def __init__(self, name, age):\n",
    "        super().__init__(name)           # 부모 클래스를 참조할때 올바른 문법/두줄다 작성해줘야함\n",
    "        self.age = age \n",
    "\n",
    "    def swim(self):\n",
    "        return '엄마가 수영'\n",
    "\n",
    "\n",
    "class Dad(Person):\n",
    "    gene = 'XY'\n",
    "\n",
    "    def __init__(self, name):\n",
    "        super().__init__(name)\n",
    "        \n",
    "\n",
    "    def walk(self):\n",
    "        return '아빠가 걷기'\n",
    "\n",
    "\n",
    "class Firstchild(Dad, Mom):              # 상속 순서: Dad >> Mom\n",
    "    mom_gene = Mom.gene\n",
    "    \n",
    "    def __init__(self, name, age):\n",
    "        super().__init__(name)\n",
    "        Mom.__init__(self, name, age)     # 아주 특별한 경우가 아닌이상 부모이름으로 직접 생성자함수 호출XX\n",
    "        \n",
    "\n",
    "    def swim(self):\n",
    "        return '첫째가 수영'\n",
    "\n",
    "\n",
    "    def cry(self):\n",
    "        return '첫째가 응애'\n",
    "\n",
    "\n",
    "\n",
    "baby1 = Firstchild('아가')\n",
    "print(baby1.cry())\n",
    "print(baby1.swim())\n",
    "print(baby1.walk())\n",
    "print(baby1.gene)\n",
    "print(baby1.mom_gene)"
   ]
  },
  {
   "cell_type": "markdown",
   "metadata": {},
   "source": [
    "#### 에러와 예외\n",
    "\n",
    "1. 문법 에러와 예외\n",
    "    - 문법 에러는 실행조차 안됨\n",
    "    - 예외는 실행중에 발생하는 에러\n",
    "\n",
    "2. 예외처리\n",
    "- try, except / 어떤 에러인지 모를때는 except:\n",
    "- 예외 처리 순서는 하위 에러부터 작성하기"
   ]
  },
  {
   "cell_type": "code",
   "execution_count": 14,
   "metadata": {},
   "outputs": [
    {
     "name": "stdout",
     "output_type": "stream",
     "text": [
      "안녕하세요 저는 yebun입니다.\n",
      "충성! 저는 21사단소속의 yebun입니다!\n"
     ]
    }
   ],
   "source": [
    "class Person:\n",
    "    def __init__(self, name):\n",
    "        self.name = name\n",
    "\n",
    "\n",
    "    def talk(self):\n",
    "        print(f'안녕하세요 저는 {self.name}입니다.')\n",
    "\n",
    "\n",
    "class Soldier(Person):\n",
    "    def __init__(self, name, army):\n",
    "        super().__init__(name)\n",
    "        self.army = army\n",
    "\n",
    "\n",
    "    def talk(self):\n",
    "        print(f'충성! 저는 {self.army}소속의 {self.name}입니다!')\n",
    "\n",
    "    \n",
    "p1 = Person('yebun')\n",
    "s1 = Soldier('yebun', '21사단')\n",
    "\n",
    "\n",
    "p1.talk()\n",
    "s1.talk()"
   ]
  },
  {
   "cell_type": "code",
   "execution_count": 22,
   "metadata": {},
   "outputs": [
    {
     "name": "stdout",
     "output_type": "stream",
     "text": [
      "26\n",
      "나이가 잘못됐다\n"
     ]
    }
   ],
   "source": [
    "class Person:\n",
    "    def __init__(self, name, age):\n",
    "        self.name = name\n",
    "        self.__age = age                 # 클래스 내부에서만 사용됨\n",
    "    def get_age(self):\n",
    "        return self.__age\n",
    "\n",
    "    def set_age(self, age):\n",
    "        if type(age) == str:\n",
    "            print('나이가 잘못됐다')\n",
    "            return\n",
    "\n",
    "        self.__age = age\n",
    "\n",
    "p1 = Person('yebun', 26)\n",
    "print(p1.get_age())                     # 메서드를 통해서만 접근하도록 설계\n",
    "p1.set_age('문자열')"
   ]
  }
 ],
 "metadata": {
  "kernelspec": {
   "display_name": "Python 3",
   "language": "python",
   "name": "python3"
  },
  "language_info": {
   "codemirror_mode": {
    "name": "ipython",
    "version": 3
   },
   "file_extension": ".py",
   "mimetype": "text/x-python",
   "name": "python",
   "nbconvert_exporter": "python",
   "pygments_lexer": "ipython3",
   "version": "3.9.13"
  },
  "orig_nbformat": 4
 },
 "nbformat": 4,
 "nbformat_minor": 2
}
