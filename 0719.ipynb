{
 "cells": [
  {
   "cell_type": "markdown",
   "metadata": {},
   "source": [
    "## 함수\n",
    "\n",
    "- 목적 : 특정 문제를 해결하기 위함\n",
    "- 특성 : 재사용 가능, 코드의 묶음\n",
    "- 장점 : 코드의 중복을 방지, 재사용성, 가독성, 유지보수성\n",
    "\n",
    "1) 내장함수(built-in function)\n",
    "\n",
    "(ex) print(), abs() -- 절댓값을 만드는 함수, \n",
    "\n",
    "\n",
    "2) 함수의 구조\n",
    "\n",
    "input과 output / 정의-BODY(표현식)-반환-호출\n",
    "\n",
    "doc-string -- 어떤함수인지에 대한 간략한 설명 주석\n",
    "\n",
    "{ def 함수이름 (매개변수) -- input에 들어갈 값이 있다면 매개변수 포함 <br>\n",
    "  doc-string <br>\n",
    "  함수내용    <br>\n",
    "  (retutn값)\n",
    "}\n",
    "\n",
    "3) 매개변수와 인자 -- 매개변수는 정의시, 인자는 출력시의 호칭\n",
    "\n",
    "4) 인자의 종류\n",
    "\n",
    "4-1) 위치 인자 : 호출시 인자의 위치에 따라 값이 함수로 전달되는 인자. --함수 호출 시 어떤 값이 전달되지 않으면 '하나의 위치 인자가 누락되었다' 라고 표현\n",
    "\n",
    "4-2) 기본 인자 : 호출시 인자가 전달되지 않으면(인자값을 따로 입력하지 않으면) 기본값으로 할당됨 --정의시에 매개변수에 따로 값을 할당해주면 됨\n",
    "\n",
    "4-3) 키워드 인자 : 위치 인자가 순서에 따라 값이 할당되는 데 반해, 키워드 인자는 호출시에 인자에 대한 키워드를 함께 명시함으로써 순서를 지키지 않아도 됨 -- 주의사항, 키워드 인자와 위치 인자를 혼용할 경우는 에러가 남, 키워드 인자는 위치 인자 다음 순서로 배열해주기(위치인자의 값은 0번 자리에)\n",
    "\n",
    "4-4) 임의의 인자 목록 : 호출하기 전까지는 정해지지 않은 갯수의 인자를 처리하는 인자. 정의시 매개변수 앞에 *을 붙여 사용. 반환값은 튜플로 처리됨. \n",
    "\n",
    "4-5) 임의의 키워드 인자 목록 : 정의시 매개변수 앞에 **을 붙여 사용. 반환값은 딕셔너리로 처리됨.\n"
   ]
  },
  {
   "cell_type": "code",
   "execution_count": 6,
   "metadata": {},
   "outputs": [
    {
     "name": "stdout",
     "output_type": "stream",
     "text": [
      "(1, 2, 3, 4, 5)\n"
     ]
    }
   ],
   "source": [
    "# 임의의 인자\n",
    "def calculate_sum(*args):\n",
    "    print(args)\n",
    "\n",
    "calculate_sum(1, 2, 3, 4, 5) #튜플 처리"
   ]
  },
  {
   "cell_type": "markdown",
   "metadata": {},
   "source": [
    "### 함수와 스코프\n",
    "- local scope(함수 안의 범위) / global scope\n",
    "    - 함수 밖에서 함수 안의 값은 호출 불가\n",
    "- 변수 수명 주기\n",
    "    - 내장함수 : 파이썬 실행부터 닫을때까지\n",
    "    - 전역범위 : 모듈이 호출된 시점부터 or 인터프리터가 끝나는 지점까지\n",
    "    - 지역범위 : 함수가 호출될때 생성되어 함수가 종료할때 종료. \n",
    "- LEGB Rule : local >> enclosed >> global >> built-in\n",
    "    - 쉽게 말해, 호출을 기준으로 같은 탭에 있는 값들을 참조하고, 없을 경우 상위에 있는 값들을 찾게된다. (상위>>하위는 불가)\n",
    "- glbal 명령어 : 함수 내에서 함수 외부에 있는 변수를 호출할때 사용\n",
    "\n",
    "\n",
    "### 재귀함수\n",
    "\n",
    "- 자기 자신을 호출하는 함수\n",
    "- 장점 : 변수의 사용이 줄고 가독성이 좋음\n",
    "- 설명 : 스택구조를 통해 리턴값이 하나씩 쌓이고 다시 하나씩 빠져나가며 값이 도출됨\n",
    "- 주의할 점 : 무한호출 >> 종료조건(base case) 정하기 --반복되는 호출이 종료조건을 향하도록! 예를 들면 호출값이 하나씩 작아지게..마트료시카..\n",
    "\n",
    "### 유용한 함수\n",
    "\n",
    "1) map 함수\n",
    "- 첫번째 인자를 함수로 받음, 두번째는 반복가능한 객체를 인자로 받음\n",
    "- 반복하면서 정수로 바꿔주는 함수 -- 일일히 문자값을 받아서 정수로 변환하는 수고를 덜어줌\n",
    "- 반드시 원하는 시퀀스 형태로 변환해주기\n",
    "\n",
    "2)zip\n",
    "- 임의적으로(순차적으로) 두가지 이상의 반복가능한 값을 튜플형태로 묶어주는 함수.\n",
    "- 가로로 배열된 값들을 세로로 배열할때도 사용함\n",
    "\n",
    "\n",
    "3)lambda 함수\n",
    "- 이름이 없는 익명함수\n",
    "- 일회성으로 여기서만 쓰고 버리는 함수\n",
    "- [함수이름 = lambda 매개변수 : body]의 형태로 작성\n",
    "\n",
    "4) filter 함수\n",
    "- filter(function, iterable) 형태\n",
    "\n"
   ]
  },
  {
   "cell_type": "code",
   "execution_count": 12,
   "metadata": {},
   "outputs": [
    {
     "name": "stdout",
     "output_type": "stream",
     "text": [
      "[1, 3, 5]\n"
     ]
    }
   ],
   "source": [
    "# filter 함수로\n",
    "# 리스트의 홀수만을 걸러내는 함수를 만들어보자.\n",
    "\n",
    "# 결과가 트루인 것들만 골라서 반환\n",
    "\n",
    "def odd(n):\n",
    "    return n % 2\n",
    "\n",
    "\n",
    "numbers = [1, 2, 3, 4, 5]\n",
    "new_numbers = list(filter(odd, numbers))\n",
    "\n",
    "print(new_numbers)"
   ]
  },
  {
   "cell_type": "markdown",
   "metadata": {},
   "source": [
    "### 패킹과 언패킹\n",
    "1. 패킹\n",
    "    - 여러 개의 값을 하나의 변수로 묶어주는 것\n",
    "    - 할당된 값들을 프린트해보면 튜플형태로 자동으로 묶여있는 것 확인 가능.\n",
    "\n",
    "    -'*'(에스터래스크)를 활용한 패킹\n",
    "        - 남은 요소들을 리스트의 형태로 패킹\n",
    "    \n",
    "\n"
   ]
  },
  {
   "cell_type": "code",
   "execution_count": 5,
   "metadata": {},
   "outputs": [
    {
     "name": "stdout",
     "output_type": "stream",
     "text": [
      "1 2 3 4 5\n"
     ]
    }
   ],
   "source": [
    "numbers = 1, 2, 3, 4, 5, 6  # 자동으로 튜플형태로 변환\n",
    "print(numbers)\n",
    "\n",
    "\n",
    "a, *b, c =numbers  # 에스터래스크를 활용한 패킹\n",
    "print(a)\n",
    "print(b)\n",
    "print(c)\n",
    "\n",
    "\n",
    "a, b, c, d, e, f = numbers  # 언패킹 하는 법\n",
    "print(a, b, c, d, e)\n",
    "\n",
    "print(*numbers) # 언패킹 연산자"
   ]
  },
  {
   "cell_type": "code",
   "execution_count": null,
   "metadata": {},
   "outputs": [],
   "source": [
    "#모듈\n",
    "\n",
    "import math\n",
    "\n",
    "help(math)  #모듈안에 뭐가 있는지 확인\n",
    "\n",
    "# from절로 모듈의 range 조절\n",
    "\n",
    "\n",
    "'''\n",
    "from math import * 과\n",
    "import math 의 차이\n",
    "\n",
    "'''"
   ]
  },
  {
   "cell_type": "markdown",
   "metadata": {},
   "source": [
    "**패키지**\n",
    "\n",
    "여러개의 모듈이 포함된 디렉토리(폴더)\n",
    "\n",
    "**내부패키지와 외부패키지**\n",
    "\n",
    "외부 패키지는 pip 명령어를 통해 따로 설치해야함\n"
   ]
  }
 ],
 "metadata": {
  "kernelspec": {
   "display_name": "Python 3",
   "language": "python",
   "name": "python3"
  },
  "language_info": {
   "codemirror_mode": {
    "name": "ipython",
    "version": 3
   },
   "file_extension": ".py",
   "mimetype": "text/x-python",
   "name": "python",
   "nbconvert_exporter": "python",
   "pygments_lexer": "ipython3",
   "version": "3.9.13"
  },
  "orig_nbformat": 4
 },
 "nbformat": 4,
 "nbformat_minor": 2
}
