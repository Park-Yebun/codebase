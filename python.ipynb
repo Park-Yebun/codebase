{
 "cells": [
  {
   "cell_type": "markdown",
   "metadata": {},
   "source": [
    "**파이썬 기초**\n",
    "\n",
    "1. 저장\n",
    "- 변수 : 값(숫자, 문자, 참/거짓) 을 저장할 수 있는 저장공간\n",
    "- 참/거짓은 조건문, 반복문에 사용\n",
    "2. 조건\n",
    "3. 반복"
   ]
  },
  {
   "cell_type": "code",
   "execution_count": 3,
   "metadata": {},
   "outputs": [
    {
     "name": "stdout",
     "output_type": "stream",
     "text": [
      "183\n",
      "예분\n",
      "True\n"
     ]
    }
   ],
   "source": [
    "# 저장\n",
    "\n",
    "height = 168                                 # 변수지정 기본\n",
    "height = (168, 158, 183)                     # 리스트\n",
    "\n",
    "print(height[2])                             # index 는 값의 범위, 인덱스에러는 범위를 벗어났다는 의미\n",
    "\n",
    "\n",
    "yebun = {'name' : '예분', 'height' : '168'} # 딕셔너리\n",
    "\n",
    "print(yebun['name'])\n",
    "\n",
    "\n",
    "boolean = 200 > 100                          # 참/거짓\n",
    "\n",
    "print(boolean)"
   ]
  },
  {
   "cell_type": "code",
   "execution_count": 9,
   "metadata": {},
   "outputs": [
    {
     "name": "stdout",
     "output_type": "stream",
     "text": [
      "나쁨\n"
     ]
    }
   ],
   "source": [
    "# 조건\n",
    "\n",
    "today = \"sunny\"\n",
    "# today = \"rainy\"\n",
    "\n",
    "if today == \"rainy\" :\n",
    "    print(\"우산을 챙겨라\")\n",
    "else :\n",
    "    print(\"우산을 챙기지 마라\")\n",
    "\n",
    "\n",
    "dust = int(input(\"미세먼지 수치를 입력하세요.\"))\n",
    "\n",
    "if dust > 150 :\n",
    "    print(\"매우나쁨\")\n",
    "elif 80 < dust <= 150 :\n",
    "    print(\"나쁨\")\n",
    "else :\n",
    "    print(\"좋음\")\n",
    "\n"
   ]
  },
  {
   "cell_type": "code",
   "execution_count": 18,
   "metadata": {},
   "outputs": [
    {
     "name": "stdout",
     "output_type": "stream",
     "text": [
      "안녕\n",
      "안녕\n",
      "안녕\n",
      "돼지불백\n",
      "지코바치밥\n",
      "설렁탕\n"
     ]
    }
   ],
   "source": [
    "# 반복 (while, for)\n",
    "# while : 만약 ~~라면 계속 ~~해줘.\n",
    "# for : ~~안에 있는 ~~을 이용해서 계속 ~해줘. / 여러개의 값을 저장하는 변수에서 반복하여 값을 꺼내 사용.\n",
    "# while = 조건이 TRUE인 동안 반복적으로 실행되므로 종료 조건(FALSE)이 반드시 필요\n",
    "# for = 정해진 범위만큼만 반복하기 때문에 종료조건이 필요없음\n",
    "# while 다음에는 종료조건이 오고, for 다음에는 지정된 범위가 옴!\n",
    "\n",
    "\n",
    "n = 0                     # n이 0부터 시작\n",
    "\n",
    "while n < 3 :\n",
    "    print(\"안녕\")         # 들여쓰기 안의 식을 변형해서 응용 가능\n",
    "    n += 1\n",
    "\n",
    "\n",
    "lunch = [\"돼지불백\", \"지코바치밥\", \"설렁탕\"]\n",
    "\n",
    "for value in lunch :     # 런치 안에 있는 밸류 값을 이용해서 계속 프린트 해줘. / 여러개의 값이 저장된 런치리스트에서 반복해서 밸류값을 꺼내 사용.\n",
    "    print(value)"
   ]
  },
  {
   "cell_type": "code",
   "execution_count": 20,
   "metadata": {},
   "outputs": [
    {
     "name": "stdout",
     "output_type": "stream",
     "text": [
      "hello world\n"
     ]
    }
   ],
   "source": [
    "# 함수(기능이 있는 코드 명령어들)\n",
    "\n",
    "print(\"hello world\")\n",
    "\n",
    "\n"
   ]
  }
 ],
 "metadata": {
  "kernelspec": {
   "display_name": "Python 3 (ipykernel)",
   "language": "python",
   "name": "python3"
  },
  "language_info": {
   "codemirror_mode": {
    "name": "ipython",
    "version": 3
   },
   "file_extension": ".py",
   "mimetype": "text/x-python",
   "name": "python",
   "nbconvert_exporter": "python",
   "pygments_lexer": "ipython3",
   "version": "3.9.13"
  },
  "toc": {
   "base_numbering": 1,
   "nav_menu": {},
   "number_sections": true,
   "sideBar": true,
   "skip_h1_title": false,
   "title_cell": "Table of Contents",
   "title_sidebar": "Contents",
   "toc_cell": false,
   "toc_position": {},
   "toc_section_display": true,
   "toc_window_display": false
  }
 },
 "nbformat": 4,
 "nbformat_minor": 2
}
