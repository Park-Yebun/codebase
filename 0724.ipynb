{
 "cells": [
  {
   "cell_type": "markdown",
   "metadata": {},
   "source": [
    "### 데이터 구조 --컴퓨터에 있는 자료를 얼마나 효율적으로 정리하고 관리?\n",
    "\n",
    "- **메서드** : 전역범위가 아닌 객체(class)에 속한 '함수'\n",
    "    - 데이터 타입 별로 다양한 메서드들이 존재함. 객체 뒤에 '.'으로 연결되는 함수들 총칭 \n",
    "\n",
    "- class : 타입을 표현하는 방법\n",
    "\n",
    "- bnf 표기법 : 프로그래밍 언어를 숫자로 나타내기(ebnf) --대괄호는 선택인자를 의미"
   ]
  },
  {
   "cell_type": "code",
   "execution_count": 12,
   "metadata": {},
   "outputs": [
    {
     "name": "stdout",
     "output_type": "stream",
     "text": [
      "False\n"
     ]
    }
   ],
   "source": [
    "# print(help(list))\n",
    "\n",
    "# print('hello'.capitalize())\n",
    "\n",
    "string = 'string123'\n",
    "\n",
    "print(string.isalpha())"
   ]
  },
  {
   "cell_type": "markdown",
   "metadata": {},
   "source": [
    "#### 문자열 메서드\n",
    "\n",
    "- split('구분연산자')\n",
    "- '구분연산자'.join(iterable)"
   ]
  },
  {
   "cell_type": "code",
   "execution_count": 7,
   "metadata": {},
   "outputs": [
    {
     "name": "stdout",
     "output_type": "stream",
     "text": [
      "hello, python!\n"
     ]
    }
   ],
   "source": [
    "text = 'hello, world!'\n",
    "print(text.replace('world', 'python'))"
   ]
  },
  {
   "cell_type": "markdown",
   "metadata": {},
   "source": [
    "#### 리스트 타입 메서드\n",
    "- append와 extend 비교\n",
    "    numbers = [1, 2, 3]\n",
    "    numbers2 = [4, 5, 6]\n",
    "    numbers.append(numbers2)   >> none\n",
    "    numbers.extend(numbers2)   >> [1, 2, 3, 4, 5, 6]\n",
    "    \n",
    "- sort(메서드) sorted(함수) 비교\n",
    "    - sort 메서드는 복사본을 만드지 않고 원본을 정렬함\n",
    "    - sorted 함수는 반환이 있다. 원본은 그대로 있음\n",
    "\n",
    "- 정렬 메서드(튜플의 경우)\n",
    "    print(Sorted(tup)) >> **리스트 형태**로 새로 생성, 원본은 유지\n",
    "\n",
    "- 정렬 메서드(딕셔너리의 경우)\n",
    "    print(Sorted(dic)) >> 키값만 정렬됨\n",
    "\n",
    "    - def sort_key(item):\n",
    "        print(item)\n",
    "        return item[1]\n",
    "    print(sorted(dic.items(), key=sort_key)) >> value를 기준으로 정렬하기, key인자는 정렬방법을 서술할 함수\n",
    "\n",
    "    (혹은) print(sorted(dic.itms(), key=lambda item: item[1]))\n",
    "\n",
    "\n",
    "\n",
    "\n"
   ]
  },
  {
   "cell_type": "code",
   "execution_count": 10,
   "metadata": {},
   "outputs": [
    {
     "name": "stdout",
     "output_type": "stream",
     "text": [
      "None\n",
      "[1, 2, 3, 4, 5, 6]\n"
     ]
    }
   ],
   "source": [
    "numbers = [1, 2, 3]\n",
    "\n",
    "numbers2 = [4, 5, 6]\n",
    "\n",
    "# numbers.append(numbers2)\n",
    "# print(numbers)\n",
    "print(numbers.extend(numbers2))\n",
    "print(numbers)"
   ]
  }
 ],
 "metadata": {
  "kernelspec": {
   "display_name": "Python 3",
   "language": "python",
   "name": "python3"
  },
  "language_info": {
   "codemirror_mode": {
    "name": "ipython",
    "version": 3
   },
   "file_extension": ".py",
   "mimetype": "text/x-python",
   "name": "python",
   "nbconvert_exporter": "python",
   "pygments_lexer": "ipython3",
   "version": "3.9.13"
  },
  "orig_nbformat": 4
 },
 "nbformat": 4,
 "nbformat_minor": 2
}
