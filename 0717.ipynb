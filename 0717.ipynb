{
 "cells": [
  {
   "cell_type": "markdown",
   "metadata": {},
   "source": [
    "**인터프리터의 장점**\n",
    "\n",
    "운영체제가 바뀌더라도 프로그래밍언어를 쓰는데 문제가 없음\n",
    "\n",
    "\n",
    "**인터프리터 접속하는법**\n",
    "1) 확장자 .py인 파일을 실행\n",
    "2) git bash 에서 python -i로 파이썬 shell에 접속\n",
    "\n",
    "\n",
    "**값이 반환되는 과정**\n",
    "\n",
    "표현식 > 평가 > 반환\n",
    "*값이 반환되기 이전에 변수를 할당하는 과정부터 평가과정임\n",
    "\n",
    "문장  : 조건문, 반복문, 함수 등\n",
    "\n",
    "변수명(식별자) \n",
    "\n",
    "객체 =  값\n",
    "\n",
    "is_ 함수 = 할당된 값이 T/F 이다 라는 암묵적인 룰\n",
    "대문자로 된 변수 = 고정된 값, 불변한 값(상수값)"
   ]
  },
  {
   "cell_type": "code",
   "execution_count": 1,
   "metadata": {},
   "outputs": [
    {
     "name": "stdout",
     "output_type": "stream",
     "text": [
      "1457483131088\n"
     ]
    }
   ],
   "source": [
    "\"\"\"\n",
    "degrees = 36.5\n",
    "\n",
    "print(id(degrees)\n",
    "      )\n",
    "\"\"\""
   ]
  }
 ],
 "metadata": {
  "kernelspec": {
   "display_name": "Python 3",
   "language": "python",
   "name": "python3"
  },
  "language_info": {
   "codemirror_mode": {
    "name": "ipython",
    "version": 3
   },
   "file_extension": ".py",
   "mimetype": "text/x-python",
   "name": "python",
   "nbconvert_exporter": "python",
   "pygments_lexer": "ipython3",
   "version": "3.9.13"
  },
  "orig_nbformat": 4
 },
 "nbformat": 4,
 "nbformat_minor": 2
}
