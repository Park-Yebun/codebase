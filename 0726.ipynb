{
 "cells": [
  {
   "cell_type": "markdown",
   "metadata": {},
   "source": [
    "#### OOP(객체지향)의 핵심 개념\n",
    "- 추상화 (Abstraction)\n",
    "- 상속 (Inheritance)\n",
    "- 다형성 (Polymorphism)\n",
    "- 캡슐화 (Encapsulation)\n",
    "\n",
    "\n",
    "**추상화**\n",
    "- 세부적인 내용은 감추고 필요한 부분만 표현하는 것을 말한다. 리모콘의 동작방식을 알고 사용하지 않는 것처럼 필요한 부분만을 숙지\n",
    "\n",
    "**상속**\n",
    "- 부모-자식\n",
    "- 코드의 재사용성을 위해서 사용\n",
    "- 부모클래스에서 정의해 놓은 기능을 자식클래스에서 다시 만들지 않고 사용가능\n",
    "\n",
    "**다형성**\n",
    "- 여러 모양을 뜻한다. 동일한 메서드가 클래스에 따라 다르게 행동할 수 있다.(상속관계에 따라)\n",
    "- 서로 다른 클래스에 속해있는 객체들이 동일한 메세지에 대해 각기 다른 방식으로 응답(동작)\n",
    "\n",
    "**캡슐화**\n",
    "- 객체의 일부 구현 내용에 대해 외부로부터의 직접적인 접근을 차단한다.\n",
    "\n",
    "\n",
    "#### 절차지향과 객체지향\n",
    "1. 절차지향\n",
    "    - 데이터-절차로 따로 나눠서 프로그램을 설명\n",
    "    - 정해진 함수의 순서대로 실행하는 것이 중요하다!\n",
    "    - 함수가 정해진 흐름대로 호출되어 데이터값을 얻는 구조\n",
    "    >> 계산 용량이 증가하면서 소프트웨어에 충격이 발생\n",
    "2. 객체지향\n",
    "    - 데이터 + 메서드 함수 = \"객체\"의 중요성 강조\n",
    "    - 절차지향보다 함수의 절차는 축소된 느낌이 있음\n",
    "    - 클래스는 인스턴스의 공통 공유공간일 뿐, 인스턴스가 클래스에 종속되는 것은 아님('독립적 이름공간')\n",
    "    - **독립적 이름공간은 절차지향의 한계에 대응하는 객체지향 패러다임의 이점**\n",
    "\n",
    "    - 함수가 데이터를 인자로받는다 <<<>>> 데이터(객체)가 메서드를 호출한다.\n",
    "\n",
    "\n",
    "#### 클래스\n",
    "    - bluepoint, 청사진\n",
    "    - 타입을 표현하면서, 설계도의 역할을 하면서,  데이터와 기능을 함께 묶는 큰 틀\n",
    "    - 'name'은 class str의 인스턴스였던 것...!\n",
    "        - 객체 : 속성과 행동을 포함하는 할당값\n",
    "        - 인스턴스 : 클래스로 만든 객체;클래스 안에 할당된 객체 (ex --B는 클래스A의 인스턴스다!)\n",
    "\n",
    "#### 인스턴스\n",
    "- 인스턴스와 메서드\n",
    "    - 인스턴스.메서드()  >> 절차지향에서 함수를 통해 객체를 호출했던 것과 달리 객체를 통해 메서드를 호출하는 방식 \n",
    "- 클래스의 요소\n",
    "    1. 생성자 메서드 : 인스턴스 객체들의 초기값. 없어도 호출은 되지만,, </br>\n",
    "    def __init__(self):&nbsp;&nbsp;&nbsp;&nbsp;&nbsp;&nbsp;&nbsp;&nbsp;&nbsp;&nbsp;&nbsp;&nbsp;&nbsp;&nbsp;&nbsp;&nbsp;&nbsp;&nbsp;&nbsp;#생성자 메서드 없을 경우 이렇게 만들어줌</br>\n",
    "      pass\n",
    "\n",
    "    2. 인스턴스 변수 : singer1 = Person('IU')\n",
    "    3. 클래스 변수 : blood_color = 'red'\n",
    "    4. 인스턴스 메서드 : def singing(self): </br>\n",
    "                        return f'{self.name}가 노래합니다.'\n",
    "        - 반드시 첫번째 매개변수로 자기자신(self)을 전달받음\n",
    "#### 메서드\n",
    "    1. 인스턴스 메서드\n",
    "    2. 클래스 메서드\n",
    "        - @classmethod 데코레이터 사용\n",
    "        - 반드시 첫번째 매개변수로 호출하는 클래스를 전달받음\n",
    "\n",
    "    3. 스태틱 메서드(정적 메서드)\n",
    "        - @staticmethod 데코레이터 사용"
   ]
  },
  {
   "cell_type": "code",
   "execution_count": 4,
   "metadata": {},
   "outputs": [
    {
     "name": "stdout",
     "output_type": "stream",
     "text": [
      "IU가 노래합니다.\n",
      "BTS가 노래합니다.\n",
      "red\n",
      "red\n"
     ]
    }
   ],
   "source": [
    "# 클래스 정의\n",
    "class Person:\n",
    "    # 속성(변수)\n",
    "    blood_color = 'red'\n",
    "\n",
    "    # 메서드\n",
    "    def __init__(self, name):           # 개발자에 의해 호출되지 않고 자연스럽게 호출됨\n",
    "        self.name = name                # initialization/__init__ 초기화(생성자 메서드)\n",
    "\n",
    "    def singing(self):\n",
    "        return f'{self.name}가 노래합니다.'\n",
    "\n",
    "# 인스턴스 생성\n",
    "singer1 = Person('IU')                  # 인스턴스 이름 = 클래스(인스턴스 변수)\n",
    "singer2 = Person('BTS')\n",
    "\n",
    "\n",
    "print(singer1.singing())\n",
    "print(singer2.singing())\n",
    "\n",
    "print(singer1.blood_color)             # 인스턴스가 공통적으로 가지는 클래스의 속성\n",
    "print(singer2.blood_color)"
   ]
  },
  {
   "cell_type": "code",
   "execution_count": 5,
   "metadata": {},
   "outputs": [
    {
     "name": "stdout",
     "output_type": "stream",
     "text": [
      "unknown\n",
      "Kim\n"
     ]
    }
   ],
   "source": [
    "class Person:\n",
    "    name = 'unknown'\n",
    "\n",
    "    def talk(self):\n",
    "        print(self.name)\n",
    "\n",
    "\n",
    "p1 = Person()\n",
    "p1.talk()   # unknown                 # 인스턴스 변수가 없으면 메서드는 클래스 변수를 찾아나선다.\n",
    "\n",
    "p1.name = 'Kim'\n",
    "p1.talk()   # Kim\n",
    "\n",
    "\n"
   ]
  },
  {
   "cell_type": "code",
   "execution_count": null,
   "metadata": {},
   "outputs": [],
   "source": [
    "'abc'.upper()    # 축약형\n",
    "\n",
    "str.upper('abc') # 원래 표현식\n",
    "# 클래스(인스턴스).메서드(self)"
   ]
  }
 ],
 "metadata": {
  "kernelspec": {
   "display_name": "Python 3",
   "language": "python",
   "name": "python3"
  },
  "language_info": {
   "codemirror_mode": {
    "name": "ipython",
    "version": 3
   },
   "file_extension": ".py",
   "mimetype": "text/x-python",
   "name": "python",
   "nbconvert_exporter": "python",
   "pygments_lexer": "ipython3",
   "version": "3.9.13"
  },
  "orig_nbformat": 4
 },
 "nbformat": 4,
 "nbformat_minor": 2
}
