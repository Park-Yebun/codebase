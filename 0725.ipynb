{
 "cells": [
  {
   "cell_type": "markdown",
   "metadata": {},
   "source": [
    "#### 데이터구조2\n",
    "**비시퀀스 타입**\n",
    "\n",
    "1. 세트(정렬x, 중복x)\n",
    "    - .remove(x) .discard(x) .pop() 의 비교\n",
    "        - x값이 세트 안에 없을 경우 discard는 변화없음, remove는 KeyError, pop은 특정 x값을 지정하지 않고 랜덤하게 요소가 제거 후 반환됨.\n",
    "\n",
    "    - .update(iterable)\n",
    "        - 세트에 iterable 요소 추가 >>list 시퀀스.extend()랑 같은 역할\n",
    "\n",
    "    - 집합 메서드 : difference, intersection, issubset, issuperset, union\n"
   ]
  },
  {
   "cell_type": "code",
   "execution_count": null,
   "metadata": {},
   "outputs": [],
   "source": [
    "my_set = {1, 2, 3} \n",
    "\n",
    "# my_set.remove(10)   # keyerror 발생\n",
    "# my_set.discard(10)    # {1, 2, 3} 변화없음\n",
    "element = my_set.pop()   # 랜덤이라더니....? >> pop된 요소들은 각각의 해시태그의 주소를 갖기때문에 주소값에 저장이되지만, 이것이 순서가 있다고 말할 수는 없다. 정수는 고정, 문자열은 찐 랜덤\n",
    "print(element)\n"
   ]
  },
  {
   "cell_type": "markdown",
   "metadata": {},
   "source": [
    "### 해시테이블\n",
    "정수는 그대로 해쉬값으로 사용하기 때문에 세트에서의 pop의 값들이 매번 같게 출력됨"
   ]
  },
  {
   "cell_type": "code",
   "execution_count": null,
   "metadata": {},
   "outputs": [],
   "source": [
    "my_dict = {\n",
    "    'name': 'Alice' \n",
    "} \n",
    "\n",
    "print(my_dict['name'])\n",
    "print(my_dict.get('name'))\n",
    "\n",
    "# 딕셔너리에 없는 키를 호출할때의 차이\n",
    "print(my_dict['age']) # keyError\n",
    "print(my_dict.get('age')) # None \n",
    "print(my_dict.get('age', 'Unknown')) # Unknown"
   ]
  },
  {
   "cell_type": "markdown",
   "metadata": {},
   "source": [
    "2. 딕셔너리\n",
    "- dict.get(k, v): i)키값 k에 연결된 값을 반환하고 ii)키 값이 없으면 기본 값으로 v를 반환.\n",
    "- dict.pop(k, v): i)키 k를 제거하고 연결된 value값을 반환 ii)키 값이 없으면 기본 값으로 v를 반환.\n",
    "- dict.items()를 프린트 할 경우, 딕셔너리의 요소들이 튜플로 묶여 출력된다.\n",
    "\n",
    "- **키 값을 리스트로 받을 때, for 반복문을 사용하려면 append 메서드 꼭 써주기**\n"
   ]
  },
  {
   "cell_type": "code",
   "execution_count": 25,
   "metadata": {},
   "outputs": [
    {
     "name": "stdout",
     "output_type": "stream",
     "text": [
      "{'B': 1}\n"
     ]
    }
   ],
   "source": [
    "blood_types = {'A', 'B', 'A', 'O', 'AB', 'AB', 'O', 'A', 'B', 'O', 'B', 'AB'}\n",
    "\n",
    "\n",
    "# []\n",
    "# new_dict = {}\n",
    "# for blood_type in blood_types:\n",
    "#     #기존에 키가 이미 존재할때\n",
    "#     if blood_type in new_dict:\n",
    "#         new_dict[blood_type] += 1\n",
    "#     #키가 존재하지 않을때(처음 설정되는 키)\n",
    "#     else:\n",
    "#         new_dict[blood_type] = 1\n",
    "\n",
    "# print(new_dict)\n",
    "\n",
    "# .get()\n",
    "# new_dict = {}\n",
    "# for blood_type in blood_types:\n",
    "#     new_dict[blood_type] = new_dict.get(blood_type, 0) + 1\n",
    "\n",
    "#     #기존에 키가 이미 존재할때\n",
    "    \n",
    "#     #키가 존재하지 않을때(처음 설정되는 키)\n",
    "   \n",
    "# print(new_dict)\n",
    "\n",
    "# .setdefault()\n",
    "new_dict = {}\n",
    "for blood_type in blood_types:\n",
    "    new_dict.setdefault(blood_type, 0)\n",
    "    new_dict[blood_type] += 1\n",
    "\n",
    "print(new_dict)"
   ]
  },
  {
   "cell_type": "markdown",
   "metadata": {},
   "source": [
    "**복사**\n",
    "\n",
    "1. 할당\n",
    "- 할당 의한 복사는 가변/불변 리스트의 차이점으로 나눠짐\n",
    "\n",
    "2. 얕은복사 깊은복사\n",
    "- 얕은복사와 깊은복사는 자료를 업데이트하고자 하는 입장을 기준으로 나눠짐\n",
    "- 얕은복사는 중첩된 리스트는 복사가 안됨 >> 값을 바꿨을때는 양쪽 다 바뀜\n",
    "\n",
    "- 깊은복사 import copy"
   ]
  }
 ],
 "metadata": {
  "kernelspec": {
   "display_name": "Python 3",
   "language": "python",
   "name": "python3"
  },
  "language_info": {
   "codemirror_mode": {
    "name": "ipython",
    "version": 3
   },
   "file_extension": ".py",
   "mimetype": "text/x-python",
   "name": "python",
   "nbconvert_exporter": "python",
   "pygments_lexer": "ipython3",
   "version": "3.9.13"
  },
  "orig_nbformat": 4
 },
 "nbformat": 4,
 "nbformat_minor": 2
}
